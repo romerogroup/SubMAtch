{
 "cells": [
  {
   "cell_type": "code",
   "execution_count": 33,
   "metadata": {},
   "outputs": [
    {
     "name": "stdout",
     "output_type": "stream",
     "text": [
      "{'PMG_VASP_PSP_DIR': '~/local/pmg_psp/'}\n"
     ]
    }
   ],
   "source": [
    "import pandas as pd\n",
    "import json\n",
    "import os\n",
    "import pymongo\n",
    "import pymatgen\n",
    "import re"
   ]
  },
  {
   "cell_type": "code",
   "execution_count": 5,
   "metadata": {},
   "outputs": [],
   "source": [
    "client = pymongo.MongoClient()\n",
    "entries = client.PyChemiaDB_OQMD12.pychemia_entries\n"
   ]
  },
  {
   "cell_type": "code",
   "execution_count": 6,
   "metadata": {},
   "outputs": [],
   "source": [
    "ls = os.listdir('workfunctions/')"
   ]
  },
  {
   "cell_type": "code",
   "execution_count": 44,
   "metadata": {
    "scrolled": true
   },
   "outputs": [],
   "source": [
    "df = pd.DataFrame()\n",
    "df['formula'] = ''\n",
    "df['SPG'] = ''\n",
    "df['International'] = ''\n",
    "df['Termination'] = ''\n",
    "df['direction'] = ''\n",
    "df['Mismatch_A %'] = ''\n",
    "df['Mismatch_B %'] = ''\n",
    "df['Mismatch_Angle'] = ''\n",
    "df['Workfunction[eV]'] = ''\n",
    "df['Efermi[eV]'] = ''\n",
    "df['icsd'] = ''\n",
    "df['Link'] = ''\n",
    "df['_id'] = ''\n",
    "df['status'] = ''\n",
    "\n",
    "for item in ls :\n",
    "    rf = open('results/'+item,'r')\n",
    "    data_mismatch = json.load(rf)\n",
    "    rf.close()\n",
    "    key_mismatch = [x for x in data_mismatch][0]\n",
    "    if len(data_mismatch[key_mismatch][\"[0, 0, 1]\"]) != 0:\n",
    "        direction = \"[0, 0, 1]\"\n",
    "    elif len(data_mismatch[key_mismatch][\"[0, 1, 0]\"]) != 0:\n",
    "        direction = \"[0, 1, 0]\"\n",
    "    elif len(data_mismatch[key_mismatch][\"[1, 0, 0]\"]) != 0:\n",
    "        direction = \"[1, 0, 0]\"\n",
    "    Mismatch_A = data_mismatch[key_mismatch][direction]['mismatch'][0]\n",
    "    Mismatch_B = data_mismatch[key_mismatch][direction]['mismatch'][1]\n",
    "    Mismatch_Angle = data_mismatch[key_mismatch][direction]['mismatch'][2]\n",
    "    _id = data_mismatch[key_mismatch]['_id']\n",
    "    oqmd_id = re.findall('[0-9]*_[a-zA-z0-9]*_0*([1-9][0-9]*)',_id)[0]\n",
    "\n",
    "\n",
    "    entry = entries.find_one({'_id':_id})\n",
    "    path = entry['properties']['oqmd']['path']\n",
    "    spg = entry['properties']['oqmd']['sym_dtset']['number']\n",
    "    international = entry['properties']['oqmd']['sym_dtset']['international']\n",
    "    st_dict = entry['structure']\n",
    "    substrate = pymatgen.core.Structure(lattice=st_dict[\"cell\"],\n",
    "                                             species=st_dict['symbols'],coords=st_dict['positions'],coords_are_cartesian=True)\n",
    "        \n",
    "    formula = substrate.composition.reduced_formula\n",
    "    if path != None and 'icsd' in path :\n",
    "        icsd = True\n",
    "    else :\n",
    "        icsd = False\n",
    "    rf = open('workfunctions/'+item,'r')\n",
    "    data_wf = json.load(rf)\n",
    "    rf.close()\n",
    "    key_wf = [x for x in data_wf][0]\n",
    "    for layer in data_wf[key_wf]:\n",
    "        if data_wf[key_wf][layer] == \"interrupted\":\n",
    "            continue\n",
    "        efermi = data_wf[key_wf][layer]['efermi']\n",
    "        status = data_wf[key_wf][layer]['status']\n",
    "        workfunction = data_wf[key_wf][layer]['work-function']\n",
    "        to_append = {'formula'     : formula,\n",
    "                     'SPG'         : spg,\n",
    "                     'International': international,\n",
    "                     'Termination' : layer,\n",
    "                     'direction'   : direction,\n",
    "                     \"Mismatch_A %\": round(Mismatch_A*100,2),\n",
    "                     \"Mismatch_B %\": round(Mismatch_B*100,2),\n",
    "                     \"Mismatch_Angle\": Mismatch_Angle,\n",
    "                     \"Workfunction[eV]\": workfunction,\n",
    "                     \"Efermi[eV]\": efermi,\n",
    "                     \"icsd\": icsd,\n",
    "                     \"Link\": 'http://oqmd.org/materials/entry/'+ oqmd_id,\n",
    "                     \"_id\": _id,\n",
    "                     \"status\": status}\n",
    "        df = df.append(to_append,ignore_index=True)"
   ]
  },
  {
   "cell_type": "code",
   "execution_count": 49,
   "metadata": {
    "scrolled": true
   },
   "outputs": [],
   "source": [
    "wf = df['Workfunction[eV]']"
   ]
  },
  {
   "cell_type": "code",
   "execution_count": 46,
   "metadata": {},
   "outputs": [],
   "source": [
    "df.to_excel('final_results.xlsx')"
   ]
  },
  {
   "cell_type": "code",
   "execution_count": 56,
   "metadata": {},
   "outputs": [
    {
     "data": {
      "text/plain": [
       "count     4600\n",
       "unique    4592\n",
       "top       None\n",
       "freq         5\n",
       "Name: Workfunction[eV], dtype: object"
      ]
     },
     "execution_count": 56,
     "metadata": {},
     "output_type": "execute_result"
    }
   ],
   "source": [
    "df['Workfunction[eV]'].describe()\n",
    "\n"
   ]
  },
  {
   "cell_type": "code",
   "execution_count": 65,
   "metadata": {},
   "outputs": [
    {
     "data": {
      "text/plain": [
       "count     4600\n",
       "unique    4592\n",
       "top       None\n",
       "freq         5\n",
       "Name: Workfunction[eV], dtype: object"
      ]
     },
     "execution_count": 65,
     "metadata": {},
     "output_type": "execute_result"
    }
   ],
   "source": [
    "wf.describe(include=float)"
   ]
  },
  {
   "cell_type": "code",
   "execution_count": null,
   "metadata": {},
   "outputs": [],
   "source": []
  }
 ],
 "metadata": {
  "kernelspec": {
   "display_name": "Python 3",
   "language": "python",
   "name": "python3"
  },
  "language_info": {
   "codemirror_mode": {
    "name": "ipython",
    "version": 3
   },
   "file_extension": ".py",
   "mimetype": "text/x-python",
   "name": "python",
   "nbconvert_exporter": "python",
   "pygments_lexer": "ipython3",
   "version": "3.6.8"
  }
 },
 "nbformat": 4,
 "nbformat_minor": 2
}
